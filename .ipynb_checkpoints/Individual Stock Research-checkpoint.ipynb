{
 "cells": [
  {
   "cell_type": "markdown",
   "metadata": {},
   "source": [
    "# Setup"
   ]
  },
  {
   "cell_type": "code",
   "execution_count": null,
   "metadata": {},
   "outputs": [],
   "source": [
    "import stock_analysis as sa\n",
    "from ipysheet import from_dataframe as fd\n",
    "from stock_analysis import Watchlist"
   ]
  },
  {
   "cell_type": "code",
   "execution_count": null,
   "metadata": {},
   "outputs": [],
   "source": [
    "sa.help()"
   ]
  },
  {
   "cell_type": "code",
   "execution_count": null,
   "metadata": {},
   "outputs": [],
   "source": [
    "w = Watchlist()"
   ]
  },
  {
   "cell_type": "markdown",
   "metadata": {},
   "source": [
    "# Watchlist"
   ]
  },
  {
   "cell_type": "code",
   "execution_count": 90,
   "metadata": {},
   "outputs": [],
   "source": [
    "#Add any new finds here\n",
    "w.push('FOLD',1)"
   ]
  },
  {
   "cell_type": "code",
   "execution_count": 94,
   "metadata": {},
   "outputs": [
    {
     "data": {
      "text/plain": [
       "[(1, 'DNN'),\n",
       " (1, 'FOLD'),\n",
       " (2, 'APXT'),\n",
       " (2, 'ACTC'),\n",
       " (2, 'CACC'),\n",
       " (3, 'TLOFF'),\n",
       " (4, 'LIVE'),\n",
       " (5, 'TDY')]"
      ]
     },
     "execution_count": 94,
     "metadata": {},
     "output_type": "execute_result"
    }
   ],
   "source": [
    "#View high priority tickers\n",
    "w.view()"
   ]
  },
  {
   "cell_type": "code",
   "execution_count": 44,
   "metadata": {},
   "outputs": [],
   "source": [
    "#Remove a ticker\n",
    "w.pop()"
   ]
  },
  {
   "cell_type": "markdown",
   "metadata": {},
   "source": [
    "# Stock Analysis"
   ]
  },
  {
   "cell_type": "code",
   "execution_count": null,
   "metadata": {},
   "outputs": [],
   "source": []
  },
  {
   "cell_type": "code",
   "execution_count": 102,
   "metadata": {},
   "outputs": [
    {
     "data": {
      "application/vnd.jupyter.widget-view+json": {
       "model_id": "b59bb63e27f9449c8a044dd22cf91b4b",
       "version_major": 2,
       "version_minor": 0
      },
      "text/plain": [
       "Sheet(cells=(Cell(choice=[], column_end=0, column_start=0, numeric_format=None, row_end=8, row_start=0, squeez…"
      ]
     },
     "metadata": {},
     "output_type": "display_data"
    }
   ],
   "source": [
    "fd(sa.quick_view('SFM'))"
   ]
  },
  {
   "cell_type": "code",
   "execution_count": 103,
   "metadata": {},
   "outputs": [
    {
     "data": {
      "application/vnd.jupyter.widget-view+json": {
       "model_id": "b66c314e6ea3442380743cbb3508063e",
       "version_major": 2,
       "version_minor": 0
      },
      "text/plain": [
       "Sheet(cells=(Cell(choice=[], column_end=0, column_start=0, numeric_format=None, row_end=6, row_start=0, squeez…"
      ]
     },
     "metadata": {},
     "output_type": "display_data"
    }
   ],
   "source": [
    "fd(sa.daily_view('SFM'))"
   ]
  },
  {
   "cell_type": "code",
   "execution_count": 105,
   "metadata": {},
   "outputs": [
    {
     "data": {
      "text/html": [
       "<div>\n",
       "<style scoped>\n",
       "    .dataframe tbody tr th:only-of-type {\n",
       "        vertical-align: middle;\n",
       "    }\n",
       "\n",
       "    .dataframe tbody tr th {\n",
       "        vertical-align: top;\n",
       "    }\n",
       "\n",
       "    .dataframe thead th {\n",
       "        text-align: right;\n",
       "    }\n",
       "</style>\n",
       "<table border=\"1\" class=\"dataframe\">\n",
       "  <thead>\n",
       "    <tr style=\"text-align: right;\">\n",
       "      <th></th>\n",
       "      <th>ticker</th>\n",
       "      <th>evebitda</th>\n",
       "      <th>pe</th>\n",
       "      <th>ps</th>\n",
       "      <th>pb</th>\n",
       "      <th>1yr_eps_growth</th>\n",
       "      <th>1yr_revenue_growth</th>\n",
       "      <th>1yr_fcf_growth</th>\n",
       "      <th>5yr_avg_eps_growth</th>\n",
       "      <th>5yr_avg_revenue_growth</th>\n",
       "      <th>5yr_avg_fcf_growth</th>\n",
       "      <th>grossmargin</th>\n",
       "      <th>netmargin</th>\n",
       "      <th>ebitdamargin</th>\n",
       "      <th>eps</th>\n",
       "      <th>revenue</th>\n",
       "    </tr>\n",
       "  </thead>\n",
       "  <tbody>\n",
       "    <tr>\n",
       "      <th>0</th>\n",
       "      <td>KR</td>\n",
       "      <td>5.70</td>\n",
       "      <td>8.600</td>\n",
       "      <td>0.200</td>\n",
       "      <td>2.6</td>\n",
       "      <td>-0.460526</td>\n",
       "      <td>0.003562</td>\n",
       "      <td>0.411076</td>\n",
       "      <td>0.392711</td>\n",
       "      <td>0.072818</td>\n",
       "      <td>0.042057</td>\n",
       "      <td>0.2210</td>\n",
       "      <td>0.014</td>\n",
       "      <td>0.049</td>\n",
       "      <td>2.050</td>\n",
       "      <td>1.222860e+11</td>\n",
       "    </tr>\n",
       "    <tr>\n",
       "      <th>1</th>\n",
       "      <td>WFM</td>\n",
       "      <td>11.50</td>\n",
       "      <td>34.700</td>\n",
       "      <td>0.800</td>\n",
       "      <td>3.9</td>\n",
       "      <td>0.040268</td>\n",
       "      <td>0.021769</td>\n",
       "      <td>0.438849</td>\n",
       "      <td>0.118057</td>\n",
       "      <td>0.111141</td>\n",
       "      <td>-0.064179</td>\n",
       "      <td>0.3440</td>\n",
       "      <td>0.032</td>\n",
       "      <td>0.087</td>\n",
       "      <td>1.550</td>\n",
       "      <td>1.572400e+10</td>\n",
       "    </tr>\n",
       "    <tr>\n",
       "      <th>2</th>\n",
       "      <td>NGVC</td>\n",
       "      <td>12.40</td>\n",
       "      <td>16.300</td>\n",
       "      <td>0.300</td>\n",
       "      <td>2.7</td>\n",
       "      <td>1.119048</td>\n",
       "      <td>0.147480</td>\n",
       "      <td>3.854787</td>\n",
       "      <td>0.479566</td>\n",
       "      <td>0.240147</td>\n",
       "      <td>-5.206079</td>\n",
       "      <td>0.2730</td>\n",
       "      <td>0.019</td>\n",
       "      <td>0.057</td>\n",
       "      <td>0.890</td>\n",
       "      <td>1.036842e+09</td>\n",
       "    </tr>\n",
       "    <tr>\n",
       "      <th>3</th>\n",
       "      <td>SFM</td>\n",
       "      <td>7.00</td>\n",
       "      <td>10.300</td>\n",
       "      <td>0.400</td>\n",
       "      <td>3.2</td>\n",
       "      <td>0.016260</td>\n",
       "      <td>0.082096</td>\n",
       "      <td>0.466176</td>\n",
       "      <td>0.216244</td>\n",
       "      <td>0.352327</td>\n",
       "      <td>0.565343</td>\n",
       "      <td>0.3360</td>\n",
       "      <td>0.027</td>\n",
       "      <td>0.075</td>\n",
       "      <td>1.250</td>\n",
       "      <td>5.634835e+09</td>\n",
       "    </tr>\n",
       "    <tr>\n",
       "      <th>4</th>\n",
       "      <td>AVG</td>\n",
       "      <td>9.15</td>\n",
       "      <td>17.475</td>\n",
       "      <td>0.425</td>\n",
       "      <td>3.1</td>\n",
       "      <td>0.178762</td>\n",
       "      <td>0.063726</td>\n",
       "      <td>1.292722</td>\n",
       "      <td>0.301644</td>\n",
       "      <td>0.194108</td>\n",
       "      <td>-1.165714</td>\n",
       "      <td>0.2935</td>\n",
       "      <td>0.023</td>\n",
       "      <td>0.067</td>\n",
       "      <td>1.435</td>\n",
       "      <td>3.617042e+10</td>\n",
       "    </tr>\n",
       "  </tbody>\n",
       "</table>\n",
       "</div>"
      ],
      "text/plain": [
       "  ticker  evebitda      pe     ps   pb  1yr_eps_growth  1yr_revenue_growth  \\\n",
       "0     KR      5.70   8.600  0.200  2.6       -0.460526            0.003562   \n",
       "1    WFM     11.50  34.700  0.800  3.9        0.040268            0.021769   \n",
       "2   NGVC     12.40  16.300  0.300  2.7        1.119048            0.147480   \n",
       "3    SFM      7.00  10.300  0.400  3.2        0.016260            0.082096   \n",
       "4    AVG      9.15  17.475  0.425  3.1        0.178762            0.063726   \n",
       "\n",
       "   1yr_fcf_growth  5yr_avg_eps_growth  5yr_avg_revenue_growth  \\\n",
       "0        0.411076            0.392711                0.072818   \n",
       "1        0.438849            0.118057                0.111141   \n",
       "2        3.854787            0.479566                0.240147   \n",
       "3        0.466176            0.216244                0.352327   \n",
       "4        1.292722            0.301644                0.194108   \n",
       "\n",
       "   5yr_avg_fcf_growth  grossmargin  netmargin  ebitdamargin    eps  \\\n",
       "0            0.042057       0.2210      0.014         0.049  2.050   \n",
       "1           -0.064179       0.3440      0.032         0.087  1.550   \n",
       "2           -5.206079       0.2730      0.019         0.057  0.890   \n",
       "3            0.565343       0.3360      0.027         0.075  1.250   \n",
       "4           -1.165714       0.2935      0.023         0.067  1.435   \n",
       "\n",
       "        revenue  \n",
       "0  1.222860e+11  \n",
       "1  1.572400e+10  \n",
       "2  1.036842e+09  \n",
       "3  5.634835e+09  \n",
       "4  3.617042e+10  "
      ]
     },
     "execution_count": 105,
     "metadata": {},
     "output_type": "execute_result"
    }
   ],
   "source": [
    "sa.competitor_view('SFM',['KR','WFM','NGVC'])"
   ]
  },
  {
   "cell_type": "code",
   "execution_count": 108,
   "metadata": {},
   "outputs": [
    {
     "data": {
      "application/vnd.jupyter.widget-view+json": {
       "model_id": "c914152083284284bfd551ac19348223",
       "version_major": 2,
       "version_minor": 0
      },
      "text/plain": [
       "Sheet(cells=(Cell(choice=[], column_end=0, column_start=0, numeric_format=None, row_end=5, row_start=0, squeez…"
      ]
     },
     "metadata": {},
     "output_type": "display_data"
    }
   ],
   "source": [
    "fd(sa.quick_view('WFM'))"
   ]
  },
  {
   "cell_type": "code",
   "execution_count": 110,
   "metadata": {},
   "outputs": [
    {
     "data": {
      "text/html": [
       "<div>\n",
       "<style scoped>\n",
       "    .dataframe tbody tr th:only-of-type {\n",
       "        vertical-align: middle;\n",
       "    }\n",
       "\n",
       "    .dataframe tbody tr th {\n",
       "        vertical-align: top;\n",
       "    }\n",
       "\n",
       "    .dataframe thead th {\n",
       "        text-align: right;\n",
       "    }\n",
       "</style>\n",
       "<table border=\"1\" class=\"dataframe\">\n",
       "  <thead>\n",
       "    <tr style=\"text-align: right;\">\n",
       "      <th></th>\n",
       "      <th>calendardate</th>\n",
       "      <th>shareswa</th>\n",
       "    </tr>\n",
       "    <tr>\n",
       "      <th>None</th>\n",
       "      <th></th>\n",
       "      <th></th>\n",
       "    </tr>\n",
       "  </thead>\n",
       "  <tbody>\n",
       "    <tr>\n",
       "      <th>8</th>\n",
       "      <td>2011-12-31</td>\n",
       "      <td>96954000</td>\n",
       "    </tr>\n",
       "    <tr>\n",
       "      <th>7</th>\n",
       "      <td>2012-12-31</td>\n",
       "      <td>119427000</td>\n",
       "    </tr>\n",
       "    <tr>\n",
       "      <th>6</th>\n",
       "      <td>2013-12-31</td>\n",
       "      <td>134622000</td>\n",
       "    </tr>\n",
       "    <tr>\n",
       "      <th>5</th>\n",
       "      <td>2014-12-31</td>\n",
       "      <td>149751000</td>\n",
       "    </tr>\n",
       "    <tr>\n",
       "      <th>4</th>\n",
       "      <td>2015-12-31</td>\n",
       "      <td>153099000</td>\n",
       "    </tr>\n",
       "    <tr>\n",
       "      <th>3</th>\n",
       "      <td>2016-12-31</td>\n",
       "      <td>147311000</td>\n",
       "    </tr>\n",
       "    <tr>\n",
       "      <th>2</th>\n",
       "      <td>2017-12-31</td>\n",
       "      <td>135169000</td>\n",
       "    </tr>\n",
       "    <tr>\n",
       "      <th>1</th>\n",
       "      <td>2018-12-31</td>\n",
       "      <td>128827000</td>\n",
       "    </tr>\n",
       "    <tr>\n",
       "      <th>0</th>\n",
       "      <td>2019-12-31</td>\n",
       "      <td>119368000</td>\n",
       "    </tr>\n",
       "  </tbody>\n",
       "</table>\n",
       "</div>"
      ],
      "text/plain": [
       "     calendardate   shareswa\n",
       "None                        \n",
       "8      2011-12-31   96954000\n",
       "7      2012-12-31  119427000\n",
       "6      2013-12-31  134622000\n",
       "5      2014-12-31  149751000\n",
       "4      2015-12-31  153099000\n",
       "3      2016-12-31  147311000\n",
       "2      2017-12-31  135169000\n",
       "1      2018-12-31  128827000\n",
       "0      2019-12-31  119368000"
      ]
     },
     "execution_count": 110,
     "metadata": {},
     "output_type": "execute_result"
    }
   ],
   "source": [
    "sa.get_metrics('SFM',['shareswa'])"
   ]
  },
  {
   "cell_type": "code",
   "execution_count": 111,
   "metadata": {},
   "outputs": [
    {
     "name": "stdout",
     "output_type": "stream",
     "text": [
      "Current Price: 19.51\n",
      "5 Yr Price Target: 61.25308976710436\n"
     ]
    }
   ],
   "source": [
    "sa.quick_valuation('SFM',.09,10.5,share_change=-35000000)"
   ]
  },
  {
   "cell_type": "code",
   "execution_count": 112,
   "metadata": {},
   "outputs": [
    {
     "name": "stdout",
     "output_type": "stream",
     "text": [
      "Current Price: 19.51\n",
      "5 Yr Price Target: 17.634780497663773\n"
     ]
    }
   ],
   "source": [
    "sa.quick_valuation('SFM',.082,6)"
   ]
  },
  {
   "cell_type": "code",
   "execution_count": 39,
   "metadata": {
    "scrolled": true
   },
   "outputs": [
    {
     "data": {
      "application/vnd.jupyter.widget-view+json": {
       "model_id": "6f9132544b434b7795696170031cfd04",
       "version_major": 2,
       "version_minor": 0
      },
      "text/plain": [
       "Sheet(cells=(Cell(choice=[], column_end=0, column_start=0, numeric_format=None, row_end=8, row_start=0, squeez…"
      ]
     },
     "metadata": {},
     "output_type": "display_data"
    }
   ],
   "source": [
    "fd(sa.get_metrics('DNN',['shareswa']))"
   ]
  },
  {
   "cell_type": "code",
   "execution_count": 40,
   "metadata": {},
   "outputs": [
    {
     "data": {
      "application/vnd.jupyter.widget-view+json": {
       "model_id": "7ba688d882684c9bb8f0b6ad63070be8",
       "version_major": 2,
       "version_minor": 0
      },
      "text/plain": [
       "Sheet(cells=(Cell(choice=[], column_end=0, column_start=0, numeric_format=None, row_end=2, row_start=0, squeez…"
      ]
     },
     "metadata": {},
     "output_type": "display_data"
    }
   ],
   "source": [
    "fd(sa.competitor_view('DNN',['UUUU']))"
   ]
  },
  {
   "cell_type": "code",
   "execution_count": 58,
   "metadata": {},
   "outputs": [
    {
     "name": "stdout",
     "output_type": "stream",
     "text": [
      "Current Price: 818.1\n",
      "5 Yr Price Target: 799.8027524841336\n"
     ]
    }
   ],
   "source": [
    "sa.quick_valuation('ISRG',.09,40)"
   ]
  },
  {
   "cell_type": "code",
   "execution_count": null,
   "metadata": {},
   "outputs": [],
   "source": []
  }
 ],
 "metadata": {
  "kernelspec": {
   "display_name": "Python 3",
   "language": "python",
   "name": "python3"
  },
  "language_info": {
   "codemirror_mode": {
    "name": "ipython",
    "version": 3
   },
   "file_extension": ".py",
   "mimetype": "text/x-python",
   "name": "python",
   "nbconvert_exporter": "python",
   "pygments_lexer": "ipython3",
   "version": "3.6.0"
  }
 },
 "nbformat": 4,
 "nbformat_minor": 2
}
