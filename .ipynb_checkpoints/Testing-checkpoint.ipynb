{
 "cells": [
  {
   "cell_type": "markdown",
   "metadata": {},
   "source": [
    "This is a notebook for testing different iterations of the library, new features, etc."
   ]
  },
  {
   "cell_type": "code",
   "execution_count": 1,
   "metadata": {},
   "outputs": [],
   "source": [
    "import stock_analysis as sa\n",
    "from ipysheet import from_dataframe as fd"
   ]
  },
  {
   "cell_type": "code",
   "execution_count": 2,
   "metadata": {},
   "outputs": [
    {
     "name": "stdout",
     "output_type": "stream",
     "text": [
      "The stock analysis library includes the following functionality:\n",
      "Watchlist class: a watchlist that stores stocks with their priorities\n",
      "Watchlist functionality: push, front, remove, pop, view\n",
      "get_metrics(ticker, metrics_to_display): display a metric for a given stock\n",
      "quick_view(ticker): view various important metrics pertaining to a stock\n",
      "daily_view(ticker,num_days,display=[]): view daily changes in multiples or other metrics\n",
      "competitor_view(ticker,specced_comps,category,filter_revenue): view analysis on competitors\n",
      "quick_valuation(ticker,ann_ebitda_growth,future_ebitda_multiple,num_yrs,share_change,cash_change,debt_change)\n",
      "quick_screener_fg(revenue_growth, num_yrs): screen for fast growers at low multiples\n",
      "quick_screener_bs(): screen for stocks with a strong balance sheet\n"
     ]
    }
   ],
   "source": [
    "sa.help()"
   ]
  },
  {
   "cell_type": "code",
   "execution_count": 3,
   "metadata": {},
   "outputs": [
    {
     "data": {
      "text/html": [
       "<div>\n",
       "<style scoped>\n",
       "    .dataframe tbody tr th:only-of-type {\n",
       "        vertical-align: middle;\n",
       "    }\n",
       "\n",
       "    .dataframe tbody tr th {\n",
       "        vertical-align: top;\n",
       "    }\n",
       "\n",
       "    .dataframe thead th {\n",
       "        text-align: right;\n",
       "    }\n",
       "</style>\n",
       "<table border=\"1\" class=\"dataframe\">\n",
       "  <thead>\n",
       "    <tr style=\"text-align: right;\">\n",
       "      <th></th>\n",
       "      <th>calendardate</th>\n",
       "      <th>grossmargin</th>\n",
       "    </tr>\n",
       "    <tr>\n",
       "      <th>None</th>\n",
       "      <th></th>\n",
       "      <th></th>\n",
       "    </tr>\n",
       "  </thead>\n",
       "  <tbody>\n",
       "    <tr>\n",
       "      <th>7</th>\n",
       "      <td>2011-12-31</td>\n",
       "      <td>0.405</td>\n",
       "    </tr>\n",
       "    <tr>\n",
       "      <th>6</th>\n",
       "      <td>2012-12-31</td>\n",
       "      <td>0.439</td>\n",
       "    </tr>\n",
       "    <tr>\n",
       "      <th>5</th>\n",
       "      <td>2013-12-31</td>\n",
       "      <td>0.376</td>\n",
       "    </tr>\n",
       "    <tr>\n",
       "      <th>4</th>\n",
       "      <td>2014-12-31</td>\n",
       "      <td>0.386</td>\n",
       "    </tr>\n",
       "    <tr>\n",
       "      <th>3</th>\n",
       "      <td>2015-12-31</td>\n",
       "      <td>0.401</td>\n",
       "    </tr>\n",
       "    <tr>\n",
       "      <th>2</th>\n",
       "      <td>2016-12-31</td>\n",
       "      <td>0.391</td>\n",
       "    </tr>\n",
       "    <tr>\n",
       "      <th>1</th>\n",
       "      <td>2017-12-31</td>\n",
       "      <td>0.385</td>\n",
       "    </tr>\n",
       "    <tr>\n",
       "      <th>0</th>\n",
       "      <td>2018-12-31</td>\n",
       "      <td>0.383</td>\n",
       "    </tr>\n",
       "  </tbody>\n",
       "</table>\n",
       "</div>"
      ],
      "text/plain": [
       "     calendardate  grossmargin\n",
       "None                          \n",
       "7      2011-12-31        0.405\n",
       "6      2012-12-31        0.439\n",
       "5      2013-12-31        0.376\n",
       "4      2014-12-31        0.386\n",
       "3      2015-12-31        0.401\n",
       "2      2016-12-31        0.391\n",
       "1      2017-12-31        0.385\n",
       "0      2018-12-31        0.383"
      ]
     },
     "execution_count": 3,
     "metadata": {},
     "output_type": "execute_result"
    }
   ],
   "source": [
    "sa.get_metrics('AAPL',['grossmargin'])"
   ]
  },
  {
   "cell_type": "code",
   "execution_count": 4,
   "metadata": {},
   "outputs": [
    {
     "data": {
      "application/vnd.jupyter.widget-view+json": {
       "model_id": "c7a30f2697654c5a92847f3f33402f0b",
       "version_major": 2,
       "version_minor": 0
      },
      "text/plain": [
       "Sheet(cells=(Cell(choice=[], column_end=0, column_start=0, numeric_format=None, row_end=7, row_start=0, squeez…"
      ]
     },
     "metadata": {},
     "output_type": "display_data"
    }
   ],
   "source": [
    "fd(sa.quick_view('AAPL'))"
   ]
  },
  {
   "cell_type": "code",
   "execution_count": 6,
   "metadata": {},
   "outputs": [
    {
     "data": {
      "application/vnd.jupyter.widget-view+json": {
       "model_id": "764e8242e51f452f8582d3e06da86a34",
       "version_major": 2,
       "version_minor": 0
      },
      "text/plain": [
       "Sheet(cells=(Cell(choice=[], column_end=0, column_start=0, numeric_format=None, row_end=2, row_start=0, squeez…"
      ]
     },
     "metadata": {},
     "output_type": "display_data"
    }
   ],
   "source": [
    "fd(sa.daily_view('MSFT',3))"
   ]
  },
  {
   "cell_type": "code",
   "execution_count": 9,
   "metadata": {},
   "outputs": [
    {
     "data": {
      "text/html": [
       "<div>\n",
       "<style scoped>\n",
       "    .dataframe tbody tr th:only-of-type {\n",
       "        vertical-align: middle;\n",
       "    }\n",
       "\n",
       "    .dataframe tbody tr th {\n",
       "        vertical-align: top;\n",
       "    }\n",
       "\n",
       "    .dataframe thead th {\n",
       "        text-align: right;\n",
       "    }\n",
       "</style>\n",
       "<table border=\"1\" class=\"dataframe\">\n",
       "  <thead>\n",
       "    <tr style=\"text-align: right;\">\n",
       "      <th></th>\n",
       "      <th>ticker</th>\n",
       "      <th>evebitda</th>\n",
       "      <th>pe</th>\n",
       "      <th>ps</th>\n",
       "      <th>pb</th>\n",
       "      <th>1yr_eps_growth</th>\n",
       "      <th>1yr_revenue_growth</th>\n",
       "      <th>1yr_fcf_growth</th>\n",
       "      <th>5yr_avg_eps_growth</th>\n",
       "      <th>5yr_avg_revenue_growth</th>\n",
       "      <th>5yr_avg_fcf_growth</th>\n",
       "      <th>grossmargin</th>\n",
       "      <th>netmargin</th>\n",
       "      <th>ebitdamargin</th>\n",
       "      <th>eps</th>\n",
       "      <th>revenue</th>\n",
       "    </tr>\n",
       "  </thead>\n",
       "  <tbody>\n",
       "    <tr>\n",
       "      <th>0</th>\n",
       "      <td>MSFT</td>\n",
       "      <td>14.7</td>\n",
       "      <td>41.400000</td>\n",
       "      <td>6.800000</td>\n",
       "      <td>9.100000</td>\n",
       "      <td>-0.346505</td>\n",
       "      <td>0.142786</td>\n",
       "      <td>0.027854</td>\n",
       "      <td>-0.097172</td>\n",
       "      <td>0.075779</td>\n",
       "      <td>0.001408</td>\n",
       "      <td>0.652000</td>\n",
       "      <td>0.150000</td>\n",
       "      <td>0.423000</td>\n",
       "      <td>2.150000</td>\n",
       "      <td>1.103600e+11</td>\n",
       "    </tr>\n",
       "    <tr>\n",
       "      <th>1</th>\n",
       "      <td>XOM</td>\n",
       "      <td>7.1</td>\n",
       "      <td>12.400000</td>\n",
       "      <td>1.100000</td>\n",
       "      <td>1.500000</td>\n",
       "      <td>0.053996</td>\n",
       "      <td>0.187627</td>\n",
       "      <td>0.121113</td>\n",
       "      <td>-0.137942</td>\n",
       "      <td>-0.138766</td>\n",
       "      <td>-0.297335</td>\n",
       "      <td>0.349000</td>\n",
       "      <td>0.072000</td>\n",
       "      <td>0.172000</td>\n",
       "      <td>4.880000</td>\n",
       "      <td>2.902120e+11</td>\n",
       "    </tr>\n",
       "    <tr>\n",
       "      <th>2</th>\n",
       "      <td>AAPL</td>\n",
       "      <td>10.0</td>\n",
       "      <td>12.600000</td>\n",
       "      <td>2.800000</td>\n",
       "      <td>7.000000</td>\n",
       "      <td>0.294778</td>\n",
       "      <td>0.158620</td>\n",
       "      <td>0.238479</td>\n",
       "      <td>0.263196</td>\n",
       "      <td>0.221485</td>\n",
       "      <td>0.242839</td>\n",
       "      <td>0.383000</td>\n",
       "      <td>0.224000</td>\n",
       "      <td>0.316000</td>\n",
       "      <td>3.000000</td>\n",
       "      <td>2.655950e+11</td>\n",
       "    </tr>\n",
       "    <tr>\n",
       "      <th>3</th>\n",
       "      <td>AVG</td>\n",
       "      <td>10.6</td>\n",
       "      <td>22.133333</td>\n",
       "      <td>3.566667</td>\n",
       "      <td>5.866667</td>\n",
       "      <td>0.000756</td>\n",
       "      <td>0.163011</td>\n",
       "      <td>0.129149</td>\n",
       "      <td>0.009361</td>\n",
       "      <td>0.052832</td>\n",
       "      <td>-0.017696</td>\n",
       "      <td>0.461333</td>\n",
       "      <td>0.148667</td>\n",
       "      <td>0.303667</td>\n",
       "      <td>3.343333</td>\n",
       "      <td>2.220557e+11</td>\n",
       "    </tr>\n",
       "  </tbody>\n",
       "</table>\n",
       "</div>"
      ],
      "text/plain": [
       "  ticker  evebitda         pe        ps        pb  1yr_eps_growth  \\\n",
       "0   MSFT      14.7  41.400000  6.800000  9.100000       -0.346505   \n",
       "1    XOM       7.1  12.400000  1.100000  1.500000        0.053996   \n",
       "2   AAPL      10.0  12.600000  2.800000  7.000000        0.294778   \n",
       "3    AVG      10.6  22.133333  3.566667  5.866667        0.000756   \n",
       "\n",
       "   1yr_revenue_growth  1yr_fcf_growth  5yr_avg_eps_growth  \\\n",
       "0            0.142786        0.027854           -0.097172   \n",
       "1            0.187627        0.121113           -0.137942   \n",
       "2            0.158620        0.238479            0.263196   \n",
       "3            0.163011        0.129149            0.009361   \n",
       "\n",
       "   5yr_avg_revenue_growth  5yr_avg_fcf_growth  grossmargin  netmargin  \\\n",
       "0                0.075779            0.001408     0.652000   0.150000   \n",
       "1               -0.138766           -0.297335     0.349000   0.072000   \n",
       "2                0.221485            0.242839     0.383000   0.224000   \n",
       "3                0.052832           -0.017696     0.461333   0.148667   \n",
       "\n",
       "   ebitdamargin       eps       revenue  \n",
       "0      0.423000  2.150000  1.103600e+11  \n",
       "1      0.172000  4.880000  2.902120e+11  \n",
       "2      0.316000  3.000000  2.655950e+11  \n",
       "3      0.303667  3.343333  2.220557e+11  "
      ]
     },
     "execution_count": 9,
     "metadata": {},
     "output_type": "execute_result"
    }
   ],
   "source": [
    "sa.competitor_view('AAPL',['MSFT','XOM'])"
   ]
  },
  {
   "cell_type": "code",
   "execution_count": 10,
   "metadata": {},
   "outputs": [
    {
     "name": "stdout",
     "output_type": "stream",
     "text": [
      "Current Price: 56.435\n",
      "5 Yr Price Target: 80.5724692294507\n"
     ]
    }
   ],
   "source": [
    "sa.quick_valuation('AAPL',0.15,10)"
   ]
  },
  {
   "cell_type": "code",
   "execution_count": 12,
   "metadata": {},
   "outputs": [
    {
     "name": "stdout",
     "output_type": "stream",
     "text": [
      "AAPL\n",
      "AXP\n",
      "BA\n",
      "CAT\n",
      "CSCO\n",
      "CVX\n",
      "DD\n",
      "DIS\n",
      "GE\n",
      "GS\n",
      "HD\n",
      "IBM\n",
      "INTC\n",
      "JNJ\n",
      "JPM\n",
      "KO\n",
      "MCD\n",
      "MMM\n",
      "MRK\n",
      "MSFT\n",
      "NKE\n",
      "PFE\n"
     ]
    },
    {
     "ename": "IndexError",
     "evalue": "index 0 is out of bounds for axis 0 with size 0",
     "output_type": "error",
     "traceback": [
      "\u001b[1;31m---------------------------------------------------------------------------\u001b[0m",
      "\u001b[1;31mIndexError\u001b[0m                                Traceback (most recent call last)",
      "\u001b[1;32m<ipython-input-12-47b810a9900e>\u001b[0m in \u001b[0;36m<module>\u001b[1;34m\u001b[0m\n\u001b[1;32m----> 1\u001b[1;33m \u001b[0msa\u001b[0m\u001b[1;33m.\u001b[0m\u001b[0mquick_screener_fg\u001b[0m\u001b[1;33m(\u001b[0m\u001b[1;36m0\u001b[0m\u001b[1;33m,\u001b[0m\u001b[1;36m3\u001b[0m\u001b[1;33m)\u001b[0m\u001b[1;33m\u001b[0m\u001b[0m\n\u001b[0m",
      "\u001b[1;32m~\\stocks\\investing_research\\stock_analysis.py\u001b[0m in \u001b[0;36mquick_screener_fg\u001b[1;34m(revenue_growth, num_yrs)\u001b[0m\n\u001b[0;32m    199\u001b[0m \u001b[1;33m\u001b[0m\u001b[0m\n\u001b[0;32m    200\u001b[0m             \u001b[1;31m#low relative valuation\u001b[0m\u001b[1;33m\u001b[0m\u001b[1;33m\u001b[0m\u001b[0m\n\u001b[1;32m--> 201\u001b[1;33m             \u001b[0mticker_industry\u001b[0m \u001b[1;33m=\u001b[0m \u001b[0mtickers_df\u001b[0m\u001b[1;33m[\u001b[0m\u001b[0mtickers_df\u001b[0m\u001b[1;33m[\u001b[0m\u001b[1;34m'ticker'\u001b[0m\u001b[1;33m]\u001b[0m\u001b[1;33m==\u001b[0m\u001b[0mt\u001b[0m\u001b[1;33m]\u001b[0m\u001b[1;33m[\u001b[0m\u001b[1;34m'industry'\u001b[0m\u001b[1;33m]\u001b[0m\u001b[1;33m.\u001b[0m\u001b[0mvalues\u001b[0m\u001b[1;33m[\u001b[0m\u001b[1;36m0\u001b[0m\u001b[1;33m]\u001b[0m\u001b[1;33m\u001b[0m\u001b[0m\n\u001b[0m\u001b[0;32m    202\u001b[0m             \u001b[0mcompetitors\u001b[0m \u001b[1;33m=\u001b[0m \u001b[0mtickers_df\u001b[0m\u001b[1;33m[\u001b[0m\u001b[0mtickers_df\u001b[0m\u001b[1;33m[\u001b[0m\u001b[1;34m'industry'\u001b[0m\u001b[1;33m]\u001b[0m\u001b[1;33m==\u001b[0m\u001b[0mticker_industry\u001b[0m\u001b[1;33m]\u001b[0m\u001b[1;33m[\u001b[0m\u001b[1;34m'ticker'\u001b[0m\u001b[1;33m]\u001b[0m\u001b[1;33m.\u001b[0m\u001b[0mvalues\u001b[0m\u001b[1;33m\u001b[0m\u001b[0m\n\u001b[0;32m    203\u001b[0m \u001b[1;33m\u001b[0m\u001b[0m\n",
      "\u001b[1;31mIndexError\u001b[0m: index 0 is out of bounds for axis 0 with size 0"
     ]
    }
   ],
   "source": [
    "sa.quick_screener_fg(0,3)"
   ]
  },
  {
   "cell_type": "code",
   "execution_count": 14,
   "metadata": {},
   "outputs": [
    {
     "data": {
      "text/plain": [
       "[]"
      ]
     },
     "execution_count": 14,
     "metadata": {},
     "output_type": "execute_result"
    }
   ],
   "source": [
    "sa.quick_screener_bs()"
   ]
  },
  {
   "cell_type": "code",
   "execution_count": 16,
   "metadata": {},
   "outputs": [],
   "source": [
    "from stock_analysis import Watchlist"
   ]
  },
  {
   "cell_type": "code",
   "execution_count": 17,
   "metadata": {},
   "outputs": [],
   "source": [
    "w = Watchlist()"
   ]
  },
  {
   "cell_type": "code",
   "execution_count": 18,
   "metadata": {},
   "outputs": [
    {
     "data": {
      "text/plain": [
       "'STPK'"
      ]
     },
     "execution_count": 18,
     "metadata": {},
     "output_type": "execute_result"
    }
   ],
   "source": [
    "w.front()"
   ]
  },
  {
   "cell_type": "code",
   "execution_count": 19,
   "metadata": {},
   "outputs": [],
   "source": [
    "w.push('HITIF')"
   ]
  },
  {
   "cell_type": "code",
   "execution_count": 20,
   "metadata": {},
   "outputs": [
    {
     "data": {
      "text/plain": [
       "'HITIF'"
      ]
     },
     "execution_count": 20,
     "metadata": {},
     "output_type": "execute_result"
    }
   ],
   "source": [
    "w.front()"
   ]
  },
  {
   "cell_type": "code",
   "execution_count": 21,
   "metadata": {},
   "outputs": [
    {
     "data": {
      "text/plain": [
       "[(1, 'HITIF'), (5, 'STPK')]"
      ]
     },
     "execution_count": 21,
     "metadata": {},
     "output_type": "execute_result"
    }
   ],
   "source": [
    "w.view()"
   ]
  },
  {
   "cell_type": "code",
   "execution_count": 22,
   "metadata": {},
   "outputs": [
    {
     "data": {
      "text/plain": [
       "True"
      ]
     },
     "execution_count": 22,
     "metadata": {},
     "output_type": "execute_result"
    }
   ],
   "source": [
    "w.remove('STPK')"
   ]
  },
  {
   "cell_type": "code",
   "execution_count": 23,
   "metadata": {},
   "outputs": [
    {
     "data": {
      "text/plain": [
       "[(1, 'HITIF')]"
      ]
     },
     "execution_count": 23,
     "metadata": {},
     "output_type": "execute_result"
    }
   ],
   "source": [
    "w.view()"
   ]
  },
  {
   "cell_type": "code",
   "execution_count": 24,
   "metadata": {},
   "outputs": [],
   "source": [
    "del w"
   ]
  },
  {
   "cell_type": "code",
   "execution_count": 25,
   "metadata": {},
   "outputs": [],
   "source": [
    "v = Watchlist()"
   ]
  },
  {
   "cell_type": "code",
   "execution_count": 26,
   "metadata": {},
   "outputs": [
    {
     "data": {
      "text/plain": [
       "[(1, 'HITIF')]"
      ]
     },
     "execution_count": 26,
     "metadata": {},
     "output_type": "execute_result"
    }
   ],
   "source": [
    "v.view()"
   ]
  },
  {
   "cell_type": "code",
   "execution_count": null,
   "metadata": {},
   "outputs": [],
   "source": []
  }
 ],
 "metadata": {
  "kernelspec": {
   "display_name": "Python 3",
   "language": "python",
   "name": "python3"
  },
  "language_info": {
   "codemirror_mode": {
    "name": "ipython",
    "version": 3
   },
   "file_extension": ".py",
   "mimetype": "text/x-python",
   "name": "python",
   "nbconvert_exporter": "python",
   "pygments_lexer": "ipython3",
   "version": "3.6.0"
  }
 },
 "nbformat": 4,
 "nbformat_minor": 2
}
